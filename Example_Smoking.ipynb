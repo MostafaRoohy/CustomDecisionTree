{
 "cells": [
  {
   "cell_type": "markdown",
   "metadata": {},
   "source": [
    "https://www.kaggle.com/datasets/kukuroo3/body-signal-of-smoking"
   ]
  },
  {
   "cell_type": "markdown",
   "metadata": {},
   "source": [
    "# Imports"
   ]
  },
  {
   "cell_type": "code",
   "execution_count": null,
   "metadata": {},
   "outputs": [],
   "source": [
    "import numpy  as np\n",
    "import pandas as pd\n",
    "\n",
    "from sklearn.model_selection import train_test_split"
   ]
  },
  {
   "cell_type": "markdown",
   "metadata": {},
   "source": [
    "# Data Wrangling"
   ]
  },
  {
   "cell_type": "code",
   "execution_count": null,
   "metadata": {},
   "outputs": [],
   "source": [
    "rawDF = pd.read_csv(\"smoking.csv\")\n",
    "\n",
    "rawDF.columns"
   ]
  },
  {
   "cell_type": "code",
   "execution_count": null,
   "metadata": {},
   "outputs": [],
   "source": [
    "rawDF.info()"
   ]
  },
  {
   "cell_type": "code",
   "execution_count": null,
   "metadata": {},
   "outputs": [],
   "source": [
    "X = rawDF.to_numpy()#.drop(columns=['id', 'age', 'height(cm)', 'weight(kg)', 'waist(cm)', 'eyesight(left)', 'eyesight(right)', 'hearing(left)', 'hearing(right)', 'smoking']).to_numpy()\n",
    "y = rawDF['smoking'].to_numpy()\n",
    "\n",
    "X.shape, y.shape"
   ]
  },
  {
   "cell_type": "code",
   "execution_count": null,
   "metadata": {},
   "outputs": [],
   "source": [
    "X_train, X_test, y_train, y_test = train_test_split(X, y, test_size=0.20, random_state=123)\n",
    "\n",
    "X_train.shape, X_test.shape, y_train.shape, y_test.shape"
   ]
  },
  {
   "cell_type": "code",
   "execution_count": null,
   "metadata": {},
   "outputs": [],
   "source": [
    "stop"
   ]
  },
  {
   "cell_type": "markdown",
   "metadata": {},
   "source": [
    "# Modeling"
   ]
  },
  {
   "cell_type": "markdown",
   "metadata": {},
   "source": [
    "### Using SciKitLearn"
   ]
  },
  {
   "cell_type": "code",
   "execution_count": null,
   "metadata": {},
   "outputs": [],
   "source": [
    "from sklearn.tree    import DecisionTreeClassifier\n",
    "from sklearn.metrics import accuracy_score\n",
    "\n",
    "\n",
    "best = 0\n",
    "for feat in range(1, 15):\n",
    "\n",
    "    for depth in range(1, 20):\n",
    "\n",
    "        clf   = DecisionTreeClassifier(criterion='entropy', max_features=feat, max_depth=depth, random_state=123)\n",
    "        clf.fit(X_train, y_train)\n",
    "        pred1 = clf.predict(X_test)\n",
    "        acc   = accuracy_score(y_test, pred1)\n",
    "\n",
    "        if (acc>best):\n",
    "\n",
    "            print(f\"feat={feat}\\t\\tdepth={depth}\\t\\tAcc={acc*100:.2f}\")\n",
    "            best = acc\n",
    "        #\n",
    "    #\n",
    "#"
   ]
  },
  {
   "cell_type": "markdown",
   "metadata": {},
   "source": [
    "### Using my engine"
   ]
  },
  {
   "cell_type": "code",
   "execution_count": null,
   "metadata": {},
   "outputs": [],
   "source": [
    "from decision_tree import DecisionTree\n",
    "from sklearn.metrics import accuracy_score\n",
    "\n",
    "\n",
    "best = 0\n",
    "for feat in range(1, 15):\n",
    "\n",
    "    for depth in range(1, 20):\n",
    "\n",
    "        clf   = DecisionTree(criterion='entropy', n_features=feat, max_depth=depth)\n",
    "        clf.fit(X_train, y_train)\n",
    "        pred1 = clf.predict(X_test)\n",
    "        acc   = accuracy_score(y_test, pred1)\n",
    "\n",
    "        if (acc>best):\n",
    "\n",
    "            print(f\"feat={feat}\\t\\tdepth={depth}\\t\\tAcc={acc*100:.2f}\")\n",
    "            best = acc\n",
    "        #\n",
    "    #\n",
    "#"
   ]
  },
  {
   "cell_type": "code",
   "execution_count": null,
   "metadata": {},
   "outputs": [],
   "source": [
    "from DecisionTree import DecisionTree\n",
    "from sklearn.metrics import accuracy_score\n",
    "\n",
    "\n",
    "best = 0\n",
    "for feat in range(1, 15):\n",
    "\n",
    "    for depth in range(1, 20):\n",
    "\n",
    "        clf   = DecisionTree(criterion='gini', n_features=feat, max_depth=depth)\n",
    "        clf.fit(X_train, y_train)\n",
    "        pred1 = clf.predict(X_test)\n",
    "        acc   = accuracy_score(y_test, pred1)\n",
    "\n",
    "        if (acc>best):\n",
    "\n",
    "            print(f\"feat={feat}\\t\\tdepth={depth}\\t\\tAcc={acc*100:.2f}\")\n",
    "            best = acc\n",
    "        #\n",
    "    #\n",
    "#"
   ]
  },
  {
   "cell_type": "code",
   "execution_count": null,
   "metadata": {},
   "outputs": [],
   "source": []
  }
 ],
 "metadata": {
  "kernelspec": {
   "display_name": "LearningMachineLearning",
   "language": "python",
   "name": "python3"
  },
  "language_info": {
   "codemirror_mode": {
    "name": "ipython",
    "version": 3
   },
   "file_extension": ".py",
   "mimetype": "text/x-python",
   "name": "python",
   "nbconvert_exporter": "python",
   "pygments_lexer": "ipython3",
   "version": "3.12.4"
  }
 },
 "nbformat": 4,
 "nbformat_minor": 2
}
