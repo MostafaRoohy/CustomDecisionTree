{
 "cells": [
  {
   "cell_type": "code",
   "execution_count": 1,
   "metadata": {},
   "outputs": [],
   "source": [
    "from sklearn import datasets\n",
    "from sklearn.model_selection import train_test_split\n",
    "import numpy as np\n",
    "import pandas as pd\n",
    "from DecisionTree import DecisionTree"
   ]
  },
  {
   "cell_type": "code",
   "execution_count": 2,
   "metadata": {},
   "outputs": [],
   "source": [
    "data = datasets.load_breast_cancer()\n",
    "X, y = data.data, data.target\n",
    "\n",
    "X_train, X_test, y_train, y_test = train_test_split(X, y, test_size=0.40)"
   ]
  },
  {
   "cell_type": "code",
   "execution_count": 19,
   "metadata": {},
   "outputs": [
    {
     "data": {
      "text/plain": [
       "30"
      ]
     },
     "execution_count": 19,
     "metadata": {},
     "output_type": "execute_result"
    }
   ],
   "source": [
    "# pd.DataFrame(data.DESCR)\n",
    "len(data.feature_names)"
   ]
  },
  {
   "cell_type": "code",
   "execution_count": 3,
   "metadata": {},
   "outputs": [],
   "source": [
    "def accuracy(y_test, y_pred):\n",
    "\n",
    "    return (np.sum(y_test == y_pred) / len(y_test))\n",
    "#"
   ]
  },
  {
   "cell_type": "code",
   "execution_count": 22,
   "metadata": {},
   "outputs": [
    {
     "name": "stdout",
     "output_type": "stream",
     "text": [
      "feat= 1    depth= 1    Acc= 0.9035087719298246\n",
      "feat= 1    depth= 3    Acc= 0.9122807017543859\n",
      "feat= 1    depth= 6    Acc= 0.9385964912280702\n",
      "feat= 4    depth= 3    Acc= 0.9429824561403509\n",
      "feat= 6    depth= 15    Acc= 0.9473684210526315\n",
      "feat= 7    depth= 11    Acc= 0.956140350877193\n",
      "feat= 12    depth= 18    Acc= 0.9605263157894737\n"
     ]
    }
   ],
   "source": [
    "bestAcc = 0\n",
    "\n",
    "for feat in range(1,31): # Max number of features available in the dataset\n",
    "\n",
    "    for depth in range(1, 20): # 20 is just optimal\n",
    "\n",
    "        clf = DecisionTree(n_features=feat, max_depth=depth)\n",
    "        clf.fit(X_train, y_train)\n",
    "        predictions1 = clf.predict(X_test)\n",
    "\n",
    "        acc = accuracy(y_test, predictions1)\n",
    "\n",
    "        if (acc>bestAcc):\n",
    "\n",
    "            print(\"feat=\",feat,\"   depth=\",depth,\"   Acc=\",acc)\n",
    "            bestAcc = acc\n",
    "        #\n",
    "    #\n",
    "#"
   ]
  },
  {
   "cell_type": "code",
   "execution_count": 35,
   "metadata": {},
   "outputs": [
    {
     "name": "stdout",
     "output_type": "stream",
     "text": [
      "0.9429824561403509\n"
     ]
    }
   ],
   "source": [
    "clf1 = DecisionTree(n_features=12, max_depth=18)\n",
    "clf1.fit(X_train, y_train)\n",
    "predictions1 = clf1.predict(X_test)\n",
    "\n",
    "acc = accuracy(y_test, predictions1)\n",
    "print(acc)"
   ]
  },
  {
   "cell_type": "code",
   "execution_count": 31,
   "metadata": {},
   "outputs": [
    {
     "name": "stdout",
     "output_type": "stream",
     "text": [
      "0.9166666666666666\n"
     ]
    }
   ],
   "source": [
    "from sklearn.tree import DecisionTreeClassifier\n",
    "\n",
    "clf2 = DecisionTreeClassifier(criterion='entropy', max_features=12, max_depth=18, random_state=123)\n",
    "clf2.fit(X_train, y_train)\n",
    "predictions2 = clf2.predict(X_test)\n",
    "\n",
    "acc = accuracy(y_test, predictions2)\n",
    "print(acc)"
   ]
  },
  {
   "cell_type": "code",
   "execution_count": null,
   "metadata": {},
   "outputs": [],
   "source": []
  }
 ],
 "metadata": {
  "kernelspec": {
   "display_name": "LearningMachineLearning",
   "language": "python",
   "name": "python3"
  },
  "language_info": {
   "codemirror_mode": {
    "name": "ipython",
    "version": 3
   },
   "file_extension": ".py",
   "mimetype": "text/x-python",
   "name": "python",
   "nbconvert_exporter": "python",
   "pygments_lexer": "ipython3",
   "version": "3.12.4"
  }
 },
 "nbformat": 4,
 "nbformat_minor": 2
}
