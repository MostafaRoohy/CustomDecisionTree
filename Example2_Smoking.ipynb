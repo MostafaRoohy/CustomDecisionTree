{
 "cells": [
  {
   "cell_type": "code",
   "execution_count": 1,
   "metadata": {},
   "outputs": [],
   "source": [
    "import numpy  as np\n",
    "import pandas as pd\n",
    "\n",
    "from sklearn.model_selection import train_test_split"
   ]
  },
  {
   "cell_type": "code",
   "execution_count": 4,
   "metadata": {},
   "outputs": [
    {
     "data": {
      "text/plain": [
       "Index(['id', 'age', 'height(cm)', 'weight(kg)', 'waist(cm)', 'eyesight(left)',\n",
       "       'eyesight(right)', 'hearing(left)', 'hearing(right)', 'systolic',\n",
       "       'relaxation', 'fasting blood sugar', 'Cholesterol', 'triglyceride',\n",
       "       'HDL', 'LDL', 'hemoglobin', 'Urine protein', 'serum creatinine', 'AST',\n",
       "       'ALT', 'Gtp', 'dental caries', 'smoking'],\n",
       "      dtype='object')"
      ]
     },
     "execution_count": 4,
     "metadata": {},
     "output_type": "execute_result"
    }
   ],
   "source": [
    "rawDF = pd.read_csv(\"smoking.csv\")\n",
    "\n",
    "rawDF.columns"
   ]
  },
  {
   "cell_type": "code",
   "execution_count": 5,
   "metadata": {},
   "outputs": [
    {
     "name": "stdout",
     "output_type": "stream",
     "text": [
      "<class 'pandas.core.frame.DataFrame'>\n",
      "RangeIndex: 159256 entries, 0 to 159255\n",
      "Data columns (total 24 columns):\n",
      " #   Column               Non-Null Count   Dtype  \n",
      "---  ------               --------------   -----  \n",
      " 0   id                   159256 non-null  int64  \n",
      " 1   age                  159256 non-null  int64  \n",
      " 2   height(cm)           159256 non-null  int64  \n",
      " 3   weight(kg)           159256 non-null  int64  \n",
      " 4   waist(cm)            159256 non-null  float64\n",
      " 5   eyesight(left)       159256 non-null  float64\n",
      " 6   eyesight(right)      159256 non-null  float64\n",
      " 7   hearing(left)        159256 non-null  int64  \n",
      " 8   hearing(right)       159256 non-null  int64  \n",
      " 9   systolic             159256 non-null  int64  \n",
      " 10  relaxation           159256 non-null  int64  \n",
      " 11  fasting blood sugar  159256 non-null  int64  \n",
      " 12  Cholesterol          159256 non-null  int64  \n",
      " 13  triglyceride         159256 non-null  int64  \n",
      " 14  HDL                  159256 non-null  int64  \n",
      " 15  LDL                  159256 non-null  int64  \n",
      " 16  hemoglobin           159256 non-null  float64\n",
      " 17  Urine protein        159256 non-null  int64  \n",
      " 18  serum creatinine     159256 non-null  float64\n",
      " 19  AST                  159256 non-null  int64  \n",
      " 20  ALT                  159256 non-null  int64  \n",
      " 21  Gtp                  159256 non-null  int64  \n",
      " 22  dental caries        159256 non-null  int64  \n",
      " 23  smoking              159256 non-null  int64  \n",
      "dtypes: float64(5), int64(19)\n",
      "memory usage: 29.2 MB\n"
     ]
    }
   ],
   "source": [
    "rawDF.info()"
   ]
  },
  {
   "cell_type": "code",
   "execution_count": 6,
   "metadata": {},
   "outputs": [
    {
     "data": {
      "text/plain": [
       "((159256, 14), (159256,))"
      ]
     },
     "execution_count": 6,
     "metadata": {},
     "output_type": "execute_result"
    }
   ],
   "source": [
    "X = rawDF.drop(columns=['id', 'age', 'height(cm)', 'weight(kg)', 'waist(cm)', 'eyesight(left)', 'eyesight(right)', 'hearing(left)', 'hearing(right)', 'smoking']).to_numpy()\n",
    "y = rawDF['smoking'].to_numpy()\n",
    "\n",
    "X.shape, y.shape"
   ]
  },
  {
   "cell_type": "code",
   "execution_count": 7,
   "metadata": {},
   "outputs": [
    {
     "data": {
      "text/plain": [
       "((95553, 14), (63703, 14), (95553,), (63703,))"
      ]
     },
     "execution_count": 7,
     "metadata": {},
     "output_type": "execute_result"
    }
   ],
   "source": [
    "X_train, X_test, y_train, y_test = train_test_split(X, y, test_size=0.40, random_state=123)\n",
    "\n",
    "X_train.shape, X_test.shape, y_train.shape, y_test.shape"
   ]
  },
  {
   "cell_type": "markdown",
   "metadata": {},
   "source": [
    "### Using SciKitLearn"
   ]
  },
  {
   "cell_type": "code",
   "execution_count": 16,
   "metadata": {},
   "outputs": [
    {
     "name": "stdout",
     "output_type": "stream",
     "text": [
      "feat= 1    depth= 1    Acc= 0.6297976547415349\n",
      "feat= 1    depth= 2    Acc= 0.6408803353060295\n",
      "feat= 1    depth= 3    Acc= 0.7001711065412932\n",
      "feat= 1    depth= 7    Acc= 0.7303737657567148\n",
      "feat= 2    depth= 8    Acc= 0.7315981978870697\n",
      "feat= 3    depth= 6    Acc= 0.7367470919736904\n",
      "feat= 3    depth= 7    Acc= 0.7400593378647787\n",
      "feat= 4    depth= 9    Acc= 0.7402320141908544\n",
      "feat= 5    depth= 7    Acc= 0.7423198279515878\n",
      "feat= 5    depth= 10    Acc= 0.7439053105819192\n",
      "feat= 6    depth= 8    Acc= 0.7465268511687048\n",
      "feat= 10    depth= 8    Acc= 0.7467780167339058\n"
     ]
    }
   ],
   "source": [
    "from sklearn.tree import DecisionTreeClassifier\n",
    "from sklearn.metrics import accuracy_score\n",
    "\n",
    "\n",
    "best = 0\n",
    "for feat in range(1, 15):\n",
    "\n",
    "    for depth in range(1, 20):\n",
    "\n",
    "        clf = DecisionTreeClassifier(criterion='entropy', max_features=feat, max_depth=depth, random_state=123)\n",
    "        clf.fit(X_train, y_train)\n",
    "        pred1 = clf.predict(X_test)\n",
    "        acc = accuracy_score(y_test, pred1)\n",
    "\n",
    "        if (acc>best):\n",
    "\n",
    "            print(\"feat=\", feat, \"   depth=\", depth,\"   Acc=\", acc)\n",
    "            best = acc\n",
    "        #\n",
    "    #\n",
    "#"
   ]
  },
  {
   "cell_type": "markdown",
   "metadata": {},
   "source": [
    "### Using my engine"
   ]
  },
  {
   "cell_type": "code",
   "execution_count": null,
   "metadata": {},
   "outputs": [],
   "source": [
    "from DecisionTree import DecisionTree\n",
    "from sklearn.metrics import accuracy_score\n",
    "\n",
    "\n",
    "best = 0\n",
    "for feat in range(1, 15):\n",
    "\n",
    "    for depth in range(1, 20):\n",
    "\n",
    "        clf = DecisionTree(n_features=feat, max_depth=depth)\n",
    "        clf.fit(X_train, y_train)\n",
    "        pred1 = clf.predict(X_test)\n",
    "        acc = accuracy_score(y_test, pred1)\n",
    "\n",
    "        if (acc>best):\n",
    "\n",
    "            print(\"feat=\", feat, \"   depth=\", depth,\"   Acc=\", acc)\n",
    "            best = acc\n",
    "        #\n",
    "    #\n",
    "#"
   ]
  },
  {
   "cell_type": "code",
   "execution_count": 21,
   "metadata": {},
   "outputs": [
    {
     "name": "stdout",
     "output_type": "stream",
     "text": [
      "feat= 1    depth= 2    Acc= 0.7456948652339764\n"
     ]
    }
   ],
   "source": [
    "clf = DecisionTree(n_features=10, max_depth=8)\n",
    "clf.fit(X_train, y_train)\n",
    "pred1 = clf.predict(X_test)\n",
    "acc = accuracy_score(y_test, pred1)\n",
    "print(\"Acc=\", acc)\n"
   ]
  },
  {
   "cell_type": "code",
   "execution_count": null,
   "metadata": {},
   "outputs": [],
   "source": []
  }
 ],
 "metadata": {
  "kernelspec": {
   "display_name": "LearningMachineLearning",
   "language": "python",
   "name": "python3"
  },
  "language_info": {
   "codemirror_mode": {
    "name": "ipython",
    "version": 3
   },
   "file_extension": ".py",
   "mimetype": "text/x-python",
   "name": "python",
   "nbconvert_exporter": "python",
   "pygments_lexer": "ipython3",
   "version": "3.12.4"
  }
 },
 "nbformat": 4,
 "nbformat_minor": 2
}
